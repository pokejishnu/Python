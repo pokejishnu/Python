{
  "nbformat": 4,
  "nbformat_minor": 5,
  "metadata": {
    "kernelspec": {
      "display_name": "Python 3",
      "language": "python",
      "name": "python3"
    },
    "language_info": {
      "codemirror_mode": {
        "name": "ipython",
        "version": 3
      },
      "file_extension": ".py",
      "mimetype": "text/x-python",
      "name": "python",
      "nbconvert_exporter": "python",
      "pygments_lexer": "ipython3",
      "version": "3.7.6"
    },
    "colab": {
      "name": "Data Structure.ipynb",
      "provenance": []
    }
  },
  "cells": [
    {
      "cell_type": "markdown",
      "metadata": {
        "id": "f8pItHtgkpbz"
      },
      "source": [
        "# <center> <u>Data Structures <u> </center>"
      ],
      "id": "f8pItHtgkpbz"
    },
    {
      "cell_type": "markdown",
      "metadata": {
        "id": "MWx_0nS8kpb4"
      },
      "source": [
        "## 1. Lists\n",
        "\n",
        "Reference:- https://www.youtube.com/watch?v=b3O9qI5dcHE&list=PLsR_0x6BuM-GCc3iD6OQuEZHCAtYPmZfx&index=10\n",
        "\n"
      ],
      "id": "MWx_0nS8kpb4"
    },
    {
      "cell_type": "markdown",
      "metadata": {
        "id": "UtGdnSPmkpb5"
      },
      "source": [
        "<p style='text-align: right;'> 1+1+1 = 3 points</p>\n"
      ],
      "id": "UtGdnSPmkpb5"
    },
    {
      "cell_type": "markdown",
      "metadata": {
        "id": "WAhL2Oo-kpb6"
      },
      "source": [
        "#### 1.1 Create an empty list with the name ‘a’, print the value of a and type(a).\n"
      ],
      "id": "WAhL2Oo-kpb6"
    },
    {
      "cell_type": "code",
      "metadata": {
        "id": "urx8RrG0kpb6"
      },
      "source": [
        "# create empty list, name it 'a'\n",
        "\n"
      ],
      "id": "urx8RrG0kpb6",
      "execution_count": null,
      "outputs": []
    },
    {
      "cell_type": "code",
      "metadata": {
        "id": "kfqiZLuKkpb8",
        "outputId": "6a207d4d-9dd2-4ef1-c7d3-cff9908af87d"
      },
      "source": [
        "# print the value of a\n",
        "\n"
      ],
      "id": "kfqiZLuKkpb8",
      "execution_count": null,
      "outputs": [
        {
          "name": "stdout",
          "output_type": "stream",
          "text": [
            "[]\n"
          ]
        }
      ]
    },
    {
      "cell_type": "code",
      "metadata": {
        "id": "eWwP4exrkpb9",
        "outputId": "12e05b44-6e47-4f63-e2d1-f348f9cfa857"
      },
      "source": [
        "# print the type of a\n",
        "\n"
      ],
      "id": "eWwP4exrkpb9",
      "execution_count": null,
      "outputs": [
        {
          "data": {
            "text/plain": [
              "list"
            ]
          },
          "execution_count": 148,
          "metadata": {},
          "output_type": "execute_result"
        }
      ]
    },
    {
      "cell_type": "markdown",
      "metadata": {
        "id": "32ysMWS-kpb-"
      },
      "source": [
        "#### 1.2.Create a list , languages = ['R','Python', 'SAS', 'Scala', 42], "
      ],
      "id": "32ysMWS-kpb-"
    },
    {
      "cell_type": "markdown",
      "metadata": {
        "id": "c0kXpcXjkpb-"
      },
      "source": [
        "<p style='text-align: right;'> 1+1+1+1+1+1+1+1 = 7 points</p>\n"
      ],
      "id": "c0kXpcXjkpb-"
    },
    {
      "cell_type": "code",
      "metadata": {
        "id": "g-AO-p4Dkpb_"
      },
      "source": [
        "#code here\n"
      ],
      "id": "g-AO-p4Dkpb_",
      "execution_count": null,
      "outputs": []
    },
    {
      "cell_type": "markdown",
      "metadata": {
        "id": "8PF67_8SkpcA"
      },
      "source": [
        "Print the number of elements in the list"
      ],
      "id": "8PF67_8SkpcA"
    },
    {
      "cell_type": "code",
      "metadata": {
        "id": "iQGAQq9VkpcA",
        "outputId": "8fffcca7-8258-4d5d-b783-cab01cf23916"
      },
      "source": [
        "#code here"
      ],
      "id": "iQGAQq9VkpcA",
      "execution_count": null,
      "outputs": [
        {
          "data": {
            "text/plain": [
              "5"
            ]
          },
          "execution_count": 6,
          "metadata": {},
          "output_type": "execute_result"
        }
      ]
    },
    {
      "cell_type": "markdown",
      "metadata": {
        "id": "_9sgh2mmkpcA"
      },
      "source": [
        "Using for loop iterate and print all the elements in the list"
      ],
      "id": "_9sgh2mmkpcA"
    },
    {
      "cell_type": "code",
      "metadata": {
        "id": "-LcM7OzqkpcB",
        "outputId": "c619e8d1-a924-40d1-cfdd-0899ab237ad6"
      },
      "source": [
        "#code here\n",
        "\n"
      ],
      "id": "-LcM7OzqkpcB",
      "execution_count": null,
      "outputs": [
        {
          "name": "stdout",
          "output_type": "stream",
          "text": [
            "R\n",
            "Python\n",
            "SAS\n",
            "Scala\n",
            "42\n"
          ]
        }
      ]
    },
    {
      "cell_type": "markdown",
      "metadata": {
        "id": "jpjlH5l3kpcB"
      },
      "source": [
        "Select the second item, 'Python' and store it in a new variable named 'temp'"
      ],
      "id": "jpjlH5l3kpcB"
    },
    {
      "cell_type": "code",
      "metadata": {
        "id": "IQit1VGkkpcC"
      },
      "source": [
        "#code here"
      ],
      "id": "IQit1VGkkpcC",
      "execution_count": null,
      "outputs": []
    },
    {
      "cell_type": "markdown",
      "metadata": {
        "id": "Ps13-taZkpcC"
      },
      "source": [
        "Print the value of temp and type(temp)"
      ],
      "id": "Ps13-taZkpcC"
    },
    {
      "cell_type": "code",
      "metadata": {
        "id": "897kqIj0kpcC",
        "outputId": "ebee0715-af38-4e96-9f28-9a0182a9f7f6"
      },
      "source": [
        "#code here\n",
        "\n"
      ],
      "id": "897kqIj0kpcC",
      "execution_count": null,
      "outputs": [
        {
          "name": "stdout",
          "output_type": "stream",
          "text": [
            "Python\n",
            "<class 'str'>\n"
          ]
        }
      ]
    },
    {
      "cell_type": "markdown",
      "metadata": {
        "id": "V9f0P9zTkpcC"
      },
      "source": [
        "Using list comprehension, print the last two elemets of list"
      ],
      "id": "V9f0P9zTkpcC"
    },
    {
      "cell_type": "code",
      "metadata": {
        "id": "rZzWEtGakpcD",
        "outputId": "73cee00e-963c-43e5-81f3-753ca0936ed8"
      },
      "source": [
        "# code here"
      ],
      "id": "rZzWEtGakpcD",
      "execution_count": null,
      "outputs": [
        {
          "data": {
            "text/plain": [
              "['Scala', 42]"
            ]
          },
          "execution_count": 11,
          "metadata": {},
          "output_type": "execute_result"
        }
      ]
    },
    {
      "cell_type": "markdown",
      "metadata": {
        "id": "wWY8wHfjkpcD"
      },
      "source": [
        "Append the element 'Java' in the list"
      ],
      "id": "wWY8wHfjkpcD"
    },
    {
      "cell_type": "code",
      "metadata": {
        "id": "ig5OP9J3kpcD"
      },
      "source": [
        "#code here"
      ],
      "id": "ig5OP9J3kpcD",
      "execution_count": null,
      "outputs": []
    },
    {
      "cell_type": "markdown",
      "metadata": {
        "id": "JZF8zdS9kpcE"
      },
      "source": [
        "Remove the element 42 from the list and print the list"
      ],
      "id": "JZF8zdS9kpcE"
    },
    {
      "cell_type": "code",
      "metadata": {
        "id": "eNtarY6pkpcE",
        "outputId": "68815cfc-3527-4a57-afc8-90d13a72b50f"
      },
      "source": [
        "#code here"
      ],
      "id": "eNtarY6pkpcE",
      "execution_count": null,
      "outputs": [
        {
          "name": "stdout",
          "output_type": "stream",
          "text": [
            "['R', 'Python', 'SAS', 'Scala', 'Java']\n"
          ]
        }
      ]
    },
    {
      "cell_type": "markdown",
      "metadata": {
        "id": "BtIptPlokpcF"
      },
      "source": [
        "#### 1.3. Create a list, colors = [‘Red’, ‘Blue’, ‘White’]"
      ],
      "id": "BtIptPlokpcF"
    },
    {
      "cell_type": "markdown",
      "metadata": {
        "id": "_zlfG-a3kpcF"
      },
      "source": [
        "<p style='text-align: right;'> 1+1+1+1+1+1+1 = 6 points</p>\n"
      ],
      "id": "_zlfG-a3kpcF"
    },
    {
      "cell_type": "code",
      "metadata": {
        "id": "SgKuIBIGkpcF"
      },
      "source": [
        "#code here\n"
      ],
      "id": "SgKuIBIGkpcF",
      "execution_count": null,
      "outputs": []
    },
    {
      "cell_type": "markdown",
      "metadata": {
        "id": "MF0M4NlqkpcF"
      },
      "source": [
        "Append the element 'Black' to colors"
      ],
      "id": "MF0M4NlqkpcF"
    },
    {
      "cell_type": "code",
      "metadata": {
        "id": "rqwFPHBOkpcF"
      },
      "source": [
        "#code here"
      ],
      "id": "rqwFPHBOkpcF",
      "execution_count": null,
      "outputs": []
    },
    {
      "cell_type": "markdown",
      "metadata": {
        "id": "fyBKDowJkpcG"
      },
      "source": [
        "Append the color 'Orange' to second position (index=1) and print the list"
      ],
      "id": "fyBKDowJkpcG"
    },
    {
      "cell_type": "code",
      "metadata": {
        "id": "Uu-VWRHLkpcG"
      },
      "source": [
        "# code here"
      ],
      "id": "Uu-VWRHLkpcG",
      "execution_count": null,
      "outputs": []
    },
    {
      "cell_type": "markdown",
      "metadata": {
        "id": "uwSMx8qGkpcG"
      },
      "source": [
        "Print the list\n"
      ],
      "id": "uwSMx8qGkpcG"
    },
    {
      "cell_type": "code",
      "metadata": {
        "id": "Pgi-1ValkpcG",
        "outputId": "f9565f74-3466-455a-adce-7ec73142acef"
      },
      "source": [
        "# code here"
      ],
      "id": "Pgi-1ValkpcG",
      "execution_count": null,
      "outputs": [
        {
          "data": {
            "text/plain": [
              "['Red', 'Orange', 'Blue', 'White', 'Black']"
            ]
          },
          "execution_count": 30,
          "metadata": {},
          "output_type": "execute_result"
        }
      ]
    },
    {
      "cell_type": "markdown",
      "metadata": {
        "id": "hpe93njnkpcG"
      },
      "source": [
        "Create another list, colors2 = [‘Grey’, ‘Sky Blue’]"
      ],
      "id": "hpe93njnkpcG"
    },
    {
      "cell_type": "code",
      "metadata": {
        "id": "9oSBcKnOkpcG"
      },
      "source": [
        "# code here"
      ],
      "id": "9oSBcKnOkpcG",
      "execution_count": null,
      "outputs": []
    },
    {
      "cell_type": "markdown",
      "metadata": {
        "id": "DS86K9h5kpcH"
      },
      "source": [
        "Add the elements of colors2 to colors using extend function in the list"
      ],
      "id": "DS86K9h5kpcH"
    },
    {
      "cell_type": "code",
      "metadata": {
        "id": "YHcLi8sXkpcH"
      },
      "source": [
        "#code here"
      ],
      "id": "YHcLi8sXkpcH",
      "execution_count": null,
      "outputs": []
    },
    {
      "cell_type": "markdown",
      "metadata": {
        "id": "9b4UNCk2kpcH"
      },
      "source": [
        "Print len of colors and its elements"
      ],
      "id": "9b4UNCk2kpcH"
    },
    {
      "cell_type": "code",
      "metadata": {
        "id": "9CpE1EdkkpcH",
        "outputId": "f8f7196a-49c1-4e7f-b576-f20ef9c89f4a"
      },
      "source": [
        "# code here\n",
        "\n"
      ],
      "id": "9CpE1EdkkpcH",
      "execution_count": null,
      "outputs": [
        {
          "name": "stdout",
          "output_type": "stream",
          "text": [
            "7\n",
            "['Red', 'Orange', 'Blue', 'White', 'Black', 'Grey', 'Sky Blue']\n"
          ]
        }
      ]
    },
    {
      "cell_type": "markdown",
      "metadata": {
        "id": "JyoPvYVDkpcI"
      },
      "source": [
        "Sort the list and print it."
      ],
      "id": "JyoPvYVDkpcI"
    },
    {
      "cell_type": "code",
      "metadata": {
        "id": "5O6F7CQskpcI",
        "outputId": "21a80062-ca49-49fc-abe5-1eea9e93d801"
      },
      "source": [
        "# code here\n",
        "\n"
      ],
      "id": "5O6F7CQskpcI",
      "execution_count": null,
      "outputs": [
        {
          "name": "stdout",
          "output_type": "stream",
          "text": [
            "['Black', 'Blue', 'Grey', 'Orange', 'Red', 'Sky Blue', 'White']\n"
          ]
        }
      ]
    },
    {
      "cell_type": "markdown",
      "metadata": {
        "id": "KisfdajdkpcI"
      },
      "source": [
        "#### 1.4. Create a string, sent = ‘Coronavirus Caused Lockdowns Around The World.”"
      ],
      "id": "KisfdajdkpcI"
    },
    {
      "cell_type": "markdown",
      "metadata": {
        "id": "CJkrVqh8kpcI"
      },
      "source": [
        "<p style='text-align: right;'> 7 points</p>\n"
      ],
      "id": "CJkrVqh8kpcI"
    },
    {
      "cell_type": "code",
      "metadata": {
        "id": "brkLITSLkpcI"
      },
      "source": [
        "# code here"
      ],
      "id": "brkLITSLkpcI",
      "execution_count": null,
      "outputs": []
    },
    {
      "cell_type": "markdown",
      "metadata": {
        "id": "th_r4MyCkpcJ"
      },
      "source": [
        "Use split function to convert the string into a list of words and save it in variable words and print the same"
      ],
      "id": "th_r4MyCkpcJ"
    },
    {
      "cell_type": "code",
      "metadata": {
        "id": "DiLl93wrkpcJ",
        "outputId": "b1cd62eb-87fb-4ba7-855f-e3b881f2001f"
      },
      "source": [
        "# code here"
      ],
      "id": "DiLl93wrkpcJ",
      "execution_count": null,
      "outputs": [
        {
          "name": "stdout",
          "output_type": "stream",
          "text": [
            "['Coronavirus', 'Caused', 'Lockdowns', 'Around', 'The', 'World.']\n"
          ]
        }
      ]
    },
    {
      "cell_type": "markdown",
      "metadata": {
        "id": "c-EXQ-3YkpcJ"
      },
      "source": [
        "Using list comprehensions, convert each word in the list to lower case and store it in variable words_lower. \n",
        "Print words_lower"
      ],
      "id": "c-EXQ-3YkpcJ"
    },
    {
      "cell_type": "code",
      "metadata": {
        "id": "qu9Wy0ORkpcJ",
        "outputId": "ab0d406c-fb60-40e1-d91b-d43e69ea43ed"
      },
      "source": [
        "# code here"
      ],
      "id": "qu9Wy0ORkpcJ",
      "execution_count": null,
      "outputs": [
        {
          "name": "stdout",
          "output_type": "stream",
          "text": [
            "['coronavirus', 'caused', 'lockdowns', 'around', 'the', 'world.']\n"
          ]
        }
      ]
    },
    {
      "cell_type": "markdown",
      "metadata": {
        "id": "6QbDnP8-kpcJ"
      },
      "source": [
        "Check whether ‘country’ is in the list"
      ],
      "id": "6QbDnP8-kpcJ"
    },
    {
      "cell_type": "code",
      "metadata": {
        "id": "pbj4S06jkpcJ",
        "outputId": "09f9c56a-2f2d-4c6d-aae4-eb20d88394fb"
      },
      "source": [
        "# code here"
      ],
      "id": "pbj4S06jkpcJ",
      "execution_count": null,
      "outputs": [
        {
          "data": {
            "text/plain": [
              "False"
            ]
          },
          "execution_count": 53,
          "metadata": {},
          "output_type": "execute_result"
        }
      ]
    },
    {
      "cell_type": "markdown",
      "metadata": {
        "id": "-5bXQCY-kpcK"
      },
      "source": [
        "Remove the element ‘the’ from the list and print the list."
      ],
      "id": "-5bXQCY-kpcK"
    },
    {
      "cell_type": "code",
      "metadata": {
        "id": "TZ3w3rTNkpcK",
        "outputId": "96626fbc-58b6-4584-8423-3540bfb69975"
      },
      "source": [
        "# code here"
      ],
      "id": "TZ3w3rTNkpcK",
      "execution_count": null,
      "outputs": [
        {
          "name": "stdout",
          "output_type": "stream",
          "text": [
            "['coronavirus', 'caused', 'lockdowns', 'around', 'world.']\n"
          ]
        }
      ]
    },
    {
      "cell_type": "markdown",
      "metadata": {
        "id": "K2urIMaHkpcK"
      },
      "source": [
        "Select the first 4 words from the list words_lower using slicing and store them in a new variable x4"
      ],
      "id": "K2urIMaHkpcK"
    },
    {
      "cell_type": "code",
      "metadata": {
        "id": "hl9uTlnHkpcK"
      },
      "source": [
        "#code here"
      ],
      "id": "hl9uTlnHkpcK",
      "execution_count": null,
      "outputs": []
    },
    {
      "cell_type": "code",
      "metadata": {
        "id": "ATxw84QokpcK",
        "outputId": "48e6adbe-3f57-401f-bd77-200c59c9901d"
      },
      "source": [
        "# print x4\n"
      ],
      "id": "ATxw84QokpcK",
      "execution_count": null,
      "outputs": [
        {
          "name": "stdout",
          "output_type": "stream",
          "text": [
            "['coronavirus', 'caused', 'lockdowns', 'around']\n"
          ]
        }
      ]
    },
    {
      "cell_type": "markdown",
      "metadata": {
        "id": "40lbSur2kpcL"
      },
      "source": [
        "Convert the list of elements to single string using join function and print it"
      ],
      "id": "40lbSur2kpcL"
    },
    {
      "cell_type": "code",
      "metadata": {
        "id": "oeN_Eyb1kpcL",
        "outputId": "4b271516-367e-4810-f437-7fce891dcad1"
      },
      "source": [
        "#code here"
      ],
      "id": "oeN_Eyb1kpcL",
      "execution_count": null,
      "outputs": [
        {
          "data": {
            "text/plain": [
              "'coronavirus caused lockdowns around'"
            ]
          },
          "execution_count": 60,
          "metadata": {},
          "output_type": "execute_result"
        }
      ]
    },
    {
      "cell_type": "markdown",
      "metadata": {
        "id": "XlViORgBkpcL"
      },
      "source": [
        "## 2. Sets\n",
        "\n",
        "Reference:-https://www.youtube.com/watch?v=B7dPo44o5jA&list=PLsR_0x6BuM-GCc3iD6OQuEZHCAtYPmZfx&index=12\n"
      ],
      "id": "XlViORgBkpcL"
    },
    {
      "cell_type": "markdown",
      "metadata": {
        "id": "cGgxZPVhkpcL"
      },
      "source": [
        "#### 2.1. Create stud_grades = ['A','A','B','C','C','F']"
      ],
      "id": "cGgxZPVhkpcL"
    },
    {
      "cell_type": "markdown",
      "metadata": {
        "id": "vSfGcxrCkpcL"
      },
      "source": [
        "<p style='text-align: right;'> 7 points</p>\n"
      ],
      "id": "vSfGcxrCkpcL"
    },
    {
      "cell_type": "code",
      "metadata": {
        "id": "AszrelvIkpcL"
      },
      "source": [
        "#code here\n"
      ],
      "id": "AszrelvIkpcL",
      "execution_count": null,
      "outputs": []
    },
    {
      "cell_type": "markdown",
      "metadata": {
        "id": "JbdWSm2EkpcM"
      },
      "source": [
        "Print the len of stud_grades"
      ],
      "id": "JbdWSm2EkpcM"
    },
    {
      "cell_type": "code",
      "metadata": {
        "id": "FJwWPNlckpcM",
        "outputId": "4502c20d-0b17-4067-c225-5558b20ef59c"
      },
      "source": [
        "#code here"
      ],
      "id": "FJwWPNlckpcM",
      "execution_count": null,
      "outputs": [
        {
          "name": "stdout",
          "output_type": "stream",
          "text": [
            "6\n"
          ]
        }
      ]
    },
    {
      "cell_type": "markdown",
      "metadata": {
        "id": "syIycmhykpcM"
      },
      "source": [
        "Create a new variable, stud_grades_set = set(stud_grades)"
      ],
      "id": "syIycmhykpcM"
    },
    {
      "cell_type": "code",
      "metadata": {
        "id": "h49VnI1MkpcM"
      },
      "source": [
        "#code here\n"
      ],
      "id": "h49VnI1MkpcM",
      "execution_count": null,
      "outputs": []
    },
    {
      "cell_type": "markdown",
      "metadata": {
        "id": "AHG7h5i3kpcM"
      },
      "source": [
        "Print stud_grades_set. "
      ],
      "id": "AHG7h5i3kpcM"
    },
    {
      "cell_type": "code",
      "metadata": {
        "id": "qDZaqBhKkpcN",
        "outputId": "d9c10666-3d94-4c21-cc58-9198b27ce39a"
      },
      "source": [
        "#code here\n"
      ],
      "id": "qDZaqBhKkpcN",
      "execution_count": null,
      "outputs": [
        {
          "name": "stdout",
          "output_type": "stream",
          "text": [
            "{'A', 'B', 'F', 'C'}\n"
          ]
        }
      ]
    },
    {
      "cell_type": "markdown",
      "metadata": {
        "id": "Sniw3TCxkpcN"
      },
      "source": [
        "print the type of stud_grades and stud_grades_set and print their corresponding elements. Try to understand the difference between them."
      ],
      "id": "Sniw3TCxkpcN"
    },
    {
      "cell_type": "code",
      "metadata": {
        "id": "Ur2RvyqykpcN",
        "outputId": "eab4a47c-b3d3-483c-a385-316c299ddf84"
      },
      "source": [
        "#code here\n",
        "\n"
      ],
      "id": "Ur2RvyqykpcN",
      "execution_count": null,
      "outputs": [
        {
          "name": "stdout",
          "output_type": "stream",
          "text": [
            "<class 'list'> ['A', 'A', 'B', 'C', 'C', 'F']\n",
            "<class 'set'> {'A', 'B', 'F', 'C'}\n"
          ]
        }
      ]
    },
    {
      "cell_type": "markdown",
      "metadata": {
        "id": "Ppd3J-N1kpcN"
      },
      "source": [
        "Add a new element ‘G’ to stud_grades_set"
      ],
      "id": "Ppd3J-N1kpcN"
    },
    {
      "cell_type": "code",
      "metadata": {
        "id": "8hGYh9PEkpcN"
      },
      "source": [
        "#code here\n",
        "\n"
      ],
      "id": "8hGYh9PEkpcN",
      "execution_count": null,
      "outputs": []
    },
    {
      "cell_type": "markdown",
      "metadata": {
        "id": "1Osvv21ekpcO"
      },
      "source": [
        "Add element 'F' to stud_grades_set. and print it."
      ],
      "id": "1Osvv21ekpcO"
    },
    {
      "cell_type": "code",
      "metadata": {
        "id": "Dd3eD4AgkpcO",
        "outputId": "14d5a8ce-28fe-49d9-84df-ba54021416ed"
      },
      "source": [
        "#code here\n",
        "\n"
      ],
      "id": "Dd3eD4AgkpcO",
      "execution_count": null,
      "outputs": [
        {
          "name": "stdout",
          "output_type": "stream",
          "text": [
            "{'G', 'A', 'B', 'F', 'C'}\n"
          ]
        }
      ]
    },
    {
      "cell_type": "markdown",
      "metadata": {
        "id": "XClNoELikpcO"
      },
      "source": [
        "!!Did you notice? set doesn't add an element if it's already present in it, unlike lists."
      ],
      "id": "XClNoELikpcO"
    },
    {
      "cell_type": "markdown",
      "metadata": {
        "id": "A_9hFH6mkpcO"
      },
      "source": [
        "Remove ‘F’ from stud_grades_set"
      ],
      "id": "A_9hFH6mkpcO"
    },
    {
      "cell_type": "code",
      "metadata": {
        "id": "34ybEoh0kpcO"
      },
      "source": [
        "#code here\n",
        "\n"
      ],
      "id": "34ybEoh0kpcO",
      "execution_count": null,
      "outputs": []
    },
    {
      "cell_type": "markdown",
      "metadata": {
        "id": "FhW3HjejkpcO"
      },
      "source": [
        "Print the elements and the length of stud_grades_set"
      ],
      "id": "FhW3HjejkpcO"
    },
    {
      "cell_type": "code",
      "metadata": {
        "id": "PXFnKWdQkpcO",
        "outputId": "5b989b53-eac7-448f-b8d4-acd902bc6e80"
      },
      "source": [
        "#code here\n",
        "\n"
      ],
      "id": "PXFnKWdQkpcO",
      "execution_count": null,
      "outputs": [
        {
          "name": "stdout",
          "output_type": "stream",
          "text": [
            "{'G', 'A', 'B', 'C'}\n",
            "4\n"
          ]
        }
      ]
    },
    {
      "cell_type": "markdown",
      "metadata": {
        "id": "N2f4etZWkpcP"
      },
      "source": [
        "#### 2.2. Create colors = [‘red’,’blue’,’orange’], and fruits = [‘orange’,’grapes’,’apples’] "
      ],
      "id": "N2f4etZWkpcP"
    },
    {
      "cell_type": "markdown",
      "metadata": {
        "id": "mtF1BdJ8kpcP"
      },
      "source": [
        "<p style='text-align: right;'> 6 points</p>\n"
      ],
      "id": "mtF1BdJ8kpcP"
    },
    {
      "cell_type": "code",
      "metadata": {
        "id": "58z0CT--kpcP"
      },
      "source": [
        "#code here\n",
        "\n"
      ],
      "id": "58z0CT--kpcP",
      "execution_count": null,
      "outputs": []
    },
    {
      "cell_type": "markdown",
      "metadata": {
        "id": "3uQeGFjOkpcP"
      },
      "source": [
        "Print color and fruits"
      ],
      "id": "3uQeGFjOkpcP"
    },
    {
      "cell_type": "code",
      "metadata": {
        "id": "IasMF-J8kpcP",
        "outputId": "c7376a8a-b8d2-4dfa-de6b-d098895c5daf"
      },
      "source": [
        "#code here\n"
      ],
      "id": "IasMF-J8kpcP",
      "execution_count": null,
      "outputs": [
        {
          "name": "stdout",
          "output_type": "stream",
          "text": [
            "['red', 'blue', 'orange']\n",
            "['orange', 'grapes', 'apples']\n"
          ]
        }
      ]
    },
    {
      "cell_type": "markdown",
      "metadata": {
        "id": "MmbSJxhnkpcP"
      },
      "source": [
        "Create colors_set, and fruits_set. (using set() ) and print them"
      ],
      "id": "MmbSJxhnkpcP"
    },
    {
      "cell_type": "code",
      "metadata": {
        "id": "T46Fv-zGkpcP",
        "outputId": "732456d5-b839-4fd7-af1e-b440a6ebc382"
      },
      "source": [
        "#code here\n",
        "\n"
      ],
      "id": "T46Fv-zGkpcP",
      "execution_count": null,
      "outputs": [
        {
          "name": "stdout",
          "output_type": "stream",
          "text": [
            "{'blue', 'orange', 'red'}\n",
            "{'grapes', 'orange', 'apples'}\n"
          ]
        }
      ]
    },
    {
      "cell_type": "markdown",
      "metadata": {
        "id": "I6A0suaSkpcQ"
      },
      "source": [
        "Find the union of both the sets."
      ],
      "id": "I6A0suaSkpcQ"
    },
    {
      "cell_type": "code",
      "metadata": {
        "id": "JDt7qEwTkpcQ",
        "outputId": "f94cceee-9b62-4b7d-e136-4b0d5e065b71"
      },
      "source": [
        "#code here\n",
        "\n"
      ],
      "id": "JDt7qEwTkpcQ",
      "execution_count": null,
      "outputs": [
        {
          "data": {
            "text/plain": [
              "{'apples', 'blue', 'grapes', 'orange', 'red'}"
            ]
          },
          "execution_count": 87,
          "metadata": {},
          "output_type": "execute_result"
        }
      ]
    },
    {
      "cell_type": "markdown",
      "metadata": {
        "id": "bZZhTj5PkpcQ"
      },
      "source": [
        "Find the intersection of both the sets "
      ],
      "id": "bZZhTj5PkpcQ"
    },
    {
      "cell_type": "code",
      "metadata": {
        "id": "rfZTJlvKkpcQ",
        "outputId": "9a62c12c-ffd6-48ef-f356-8c4dcb747661"
      },
      "source": [
        "#code here\n",
        "\n"
      ],
      "id": "rfZTJlvKkpcQ",
      "execution_count": null,
      "outputs": [
        {
          "data": {
            "text/plain": [
              "{'orange'}"
            ]
          },
          "execution_count": 89,
          "metadata": {},
          "output_type": "execute_result"
        }
      ]
    },
    {
      "cell_type": "markdown",
      "metadata": {
        "id": "vmFkc4sXkpcR"
      },
      "source": [
        "Find the elements which are Fruits but not colors (using set.difference() )"
      ],
      "id": "vmFkc4sXkpcR"
    },
    {
      "cell_type": "code",
      "metadata": {
        "id": "UAE5Flv_kpcR",
        "outputId": "a864040e-8e17-4e0c-be14-97cbefdcf8c5"
      },
      "source": [
        "#code here\n",
        "\n"
      ],
      "id": "UAE5Flv_kpcR",
      "execution_count": null,
      "outputs": [
        {
          "data": {
            "text/plain": [
              "{'apples', 'grapes'}"
            ]
          },
          "execution_count": 91,
          "metadata": {},
          "output_type": "execute_result"
        }
      ]
    },
    {
      "cell_type": "markdown",
      "metadata": {
        "id": "DivF-svekpcR"
      },
      "source": [
        "## 3. TUPLES\n",
        "\n",
        "Reference:-https://www.youtube.com/watch?v=aMGPLCzTvmE&list=PLsR_0x6BuM-GCc3iD6OQuEZHCAtYPmZfx&index=11\n"
      ],
      "id": "DivF-svekpcR"
    },
    {
      "cell_type": "markdown",
      "metadata": {
        "id": "1Amd7ICHkpcR"
      },
      "source": [
        "#### 3.1 . Create temp = [17, ’Virat’, 50.0]"
      ],
      "id": "1Amd7ICHkpcR"
    },
    {
      "cell_type": "markdown",
      "metadata": {
        "id": "dgG43IiWkpcR"
      },
      "source": [
        "<p style='text-align: right;'> 7 points</p>\n"
      ],
      "id": "dgG43IiWkpcR"
    },
    {
      "cell_type": "code",
      "metadata": {
        "id": "pCj4RYxPkpcR"
      },
      "source": [
        "#code here\n",
        "\n",
        "\n"
      ],
      "id": "pCj4RYxPkpcR",
      "execution_count": null,
      "outputs": []
    },
    {
      "cell_type": "markdown",
      "metadata": {
        "id": "vYVDWU0mkpcS"
      },
      "source": [
        "Iterate through temp and print all the items in temp"
      ],
      "id": "vYVDWU0mkpcS"
    },
    {
      "cell_type": "code",
      "metadata": {
        "id": "Abcx7FsQkpcS",
        "outputId": "97dbf97d-c36c-4c86-985a-13618af5a38b"
      },
      "source": [
        "#code here\n",
        "\n",
        "\n"
      ],
      "id": "Abcx7FsQkpcS",
      "execution_count": null,
      "outputs": [
        {
          "name": "stdout",
          "output_type": "stream",
          "text": [
            "17\n",
            "Virat\n",
            "50.0\n"
          ]
        }
      ]
    },
    {
      "cell_type": "markdown",
      "metadata": {
        "id": "H8IYduIMkpcS"
      },
      "source": [
        "replace first element with 11 in temp"
      ],
      "id": "H8IYduIMkpcS"
    },
    {
      "cell_type": "code",
      "metadata": {
        "id": "_agIAaYokpcS"
      },
      "source": [
        "#code here\n",
        "\n"
      ],
      "id": "_agIAaYokpcS",
      "execution_count": null,
      "outputs": []
    },
    {
      "cell_type": "markdown",
      "metadata": {
        "id": "L65Zu5JOkpcS"
      },
      "source": [
        "Set temp1 = tuple(temp)"
      ],
      "id": "L65Zu5JOkpcS"
    },
    {
      "cell_type": "code",
      "metadata": {
        "id": "Lf_crs_FkpcS"
      },
      "source": [
        "#code here\n",
        "\n"
      ],
      "id": "Lf_crs_FkpcS",
      "execution_count": null,
      "outputs": []
    },
    {
      "cell_type": "markdown",
      "metadata": {
        "id": "W0_KvKjIkpcT"
      },
      "source": [
        "Iterate through temp1 and print all the items in temp1. "
      ],
      "id": "W0_KvKjIkpcT"
    },
    {
      "cell_type": "code",
      "metadata": {
        "id": "6GEPWeoAkpcT",
        "outputId": "f29b1674-f240-4d19-fac3-865d456268ad"
      },
      "source": [
        "#code here\n",
        "\n"
      ],
      "id": "6GEPWeoAkpcT",
      "execution_count": null,
      "outputs": [
        {
          "name": "stdout",
          "output_type": "stream",
          "text": [
            "11\n",
            "Virat\n",
            "50.0\n"
          ]
        }
      ]
    },
    {
      "cell_type": "markdown",
      "metadata": {
        "id": "f9d9LXh8kpcU"
      },
      "source": [
        "replace first element with 17 in temp1"
      ],
      "id": "f9d9LXh8kpcU"
    },
    {
      "cell_type": "code",
      "metadata": {
        "id": "1IkxeChfkpcU",
        "outputId": "3ce88187-5014-4856-d925-07845f9a40e7"
      },
      "source": [
        "#code here\n",
        "\n"
      ],
      "id": "1IkxeChfkpcU",
      "execution_count": null,
      "outputs": [
        {
          "ename": "TypeError",
          "evalue": "'tuple' object does not support item assignment",
          "output_type": "error",
          "traceback": [
            "\u001b[0;31m---------------------------------------------------------------------------\u001b[0m",
            "\u001b[0;31mTypeError\u001b[0m                                 Traceback (most recent call last)",
            "\u001b[0;32m<ipython-input-107-0207b6185b0a>\u001b[0m in \u001b[0;36m<module>\u001b[0;34m\u001b[0m\n\u001b[0;32m----> 1\u001b[0;31m \u001b[0mtemp1\u001b[0m\u001b[0;34m[\u001b[0m\u001b[0;36m0\u001b[0m\u001b[0;34m]\u001b[0m \u001b[0;34m=\u001b[0m \u001b[0;36m17\u001b[0m\u001b[0;34m\u001b[0m\u001b[0;34m\u001b[0m\u001b[0m\n\u001b[0m",
            "\u001b[0;31mTypeError\u001b[0m: 'tuple' object does not support item assignment"
          ]
        }
      ]
    },
    {
      "cell_type": "markdown",
      "metadata": {
        "id": "YEFosZa1kpcV"
      },
      "source": [
        "<b>Oops!! You got an error. Hey Don't worry! Its because Once a tuple is created, you cannot change its values unlike list.</b>"
      ],
      "id": "YEFosZa1kpcV"
    },
    {
      "cell_type": "markdown",
      "metadata": {
        "id": "ykhpKlS8kpcV"
      },
      "source": [
        "#### 3.2 . Create city = (\"Bangalore\", 28.9949521, 72)"
      ],
      "id": "ykhpKlS8kpcV"
    },
    {
      "cell_type": "markdown",
      "metadata": {
        "id": "ODAigBgXkpcV"
      },
      "source": [
        "<p style='text-align: right;'> 6 points</p>\n"
      ],
      "id": "ODAigBgXkpcV"
    },
    {
      "cell_type": "code",
      "metadata": {
        "id": "WgGXPbe1kpcW"
      },
      "source": [
        "#code here\n",
        "\n"
      ],
      "id": "WgGXPbe1kpcW",
      "execution_count": null,
      "outputs": []
    },
    {
      "cell_type": "markdown",
      "metadata": {
        "id": "DWPnWxz5kpcW"
      },
      "source": [
        "Print first element of city"
      ],
      "id": "DWPnWxz5kpcW"
    },
    {
      "cell_type": "code",
      "metadata": {
        "id": "dA6KeViMkpcW",
        "outputId": "ceb0426a-b525-456b-ca54-8321e348f748"
      },
      "source": [
        "#code here\n",
        "\n"
      ],
      "id": "dA6KeViMkpcW",
      "execution_count": null,
      "outputs": [
        {
          "name": "stdout",
          "output_type": "stream",
          "text": [
            "Bangalore\n"
          ]
        }
      ]
    },
    {
      "cell_type": "markdown",
      "metadata": {
        "id": "pbsNXIF8kpcW"
      },
      "source": [
        "Create city2 = (‘Chennai’, 30.01, 74)"
      ],
      "id": "pbsNXIF8kpcW"
    },
    {
      "cell_type": "code",
      "metadata": {
        "id": "WUTjcdxJkpcW"
      },
      "source": [
        "#code here\n",
        "\n"
      ],
      "id": "WUTjcdxJkpcW",
      "execution_count": null,
      "outputs": []
    },
    {
      "cell_type": "markdown",
      "metadata": {
        "id": "3Dj0etmhkpcX"
      },
      "source": [
        "Create cities which consist of city and city2"
      ],
      "id": "3Dj0etmhkpcX"
    },
    {
      "cell_type": "code",
      "metadata": {
        "id": "fRwK84MzkpcX"
      },
      "source": [
        "#code here\n",
        "\n"
      ],
      "id": "fRwK84MzkpcX",
      "execution_count": null,
      "outputs": []
    },
    {
      "cell_type": "markdown",
      "metadata": {
        "id": "zS4zixR5kpcX"
      },
      "source": [
        "Print cities"
      ],
      "id": "zS4zixR5kpcX"
    },
    {
      "cell_type": "code",
      "metadata": {
        "id": "i7VaAI5SkpcX",
        "outputId": "f317eef9-a72a-4b3a-9617-c3c6a1c7a824"
      },
      "source": [
        "#code here\n",
        "\n"
      ],
      "id": "i7VaAI5SkpcX",
      "execution_count": null,
      "outputs": [
        {
          "data": {
            "text/plain": [
              "(('Bangalore', 28.9949521, 72), ('Chennai', 30.01, 74))"
            ]
          },
          "execution_count": 115,
          "metadata": {},
          "output_type": "execute_result"
        }
      ]
    },
    {
      "cell_type": "markdown",
      "metadata": {
        "id": "oXs492EmkpcX"
      },
      "source": [
        "Print type of first element in cities"
      ],
      "id": "oXs492EmkpcX"
    },
    {
      "cell_type": "code",
      "metadata": {
        "id": "09lrtqAvkpcX",
        "outputId": "b4dac11e-cc83-4a75-bdef-324dfa18de98"
      },
      "source": [
        "#code here\n",
        "\n"
      ],
      "id": "09lrtqAvkpcX",
      "execution_count": null,
      "outputs": [
        {
          "name": "stdout",
          "output_type": "stream",
          "text": [
            "<class 'tuple'>\n"
          ]
        }
      ]
    },
    {
      "cell_type": "markdown",
      "metadata": {
        "id": "na1P70SGkpcY"
      },
      "source": [
        "print the type of cities\n"
      ],
      "id": "na1P70SGkpcY"
    },
    {
      "cell_type": "code",
      "metadata": {
        "id": "3l0lToaXkpcY",
        "outputId": "5b3835c1-3535-42ab-ea5f-215c2ee4b2a5"
      },
      "source": [
        "#code here\n",
        "\n"
      ],
      "id": "3l0lToaXkpcY",
      "execution_count": null,
      "outputs": [
        {
          "name": "stdout",
          "output_type": "stream",
          "text": [
            "<class 'tuple'>\n"
          ]
        }
      ]
    },
    {
      "cell_type": "markdown",
      "metadata": {
        "id": "66u3kIwvkpcY"
      },
      "source": [
        "Hey that implies you made a nested tuples!!"
      ],
      "id": "66u3kIwvkpcY"
    },
    {
      "cell_type": "markdown",
      "metadata": {
        "id": "9IPo71RPkpcY"
      },
      "source": [
        "## 4. DICT\n",
        "\n",
        "Reference:-https://www.youtube.com/watch?v=U3e-L1WSSzQ&list=PLsR_0x6BuM-GCc3iD6OQuEZHCAtYPmZfx&index=13\n"
      ],
      "id": "9IPo71RPkpcY"
    },
    {
      "cell_type": "markdown",
      "metadata": {
        "id": "nOnQGy06kpcY"
      },
      "source": [
        "<p style='text-align: right;'> 11 points</p>\n"
      ],
      "id": "nOnQGy06kpcY"
    },
    {
      "cell_type": "markdown",
      "metadata": {
        "id": "_D3WHJsMkpcZ"
      },
      "source": [
        "#### 4.1 Create a dictionary d = {\"actor\":\"amir\",\"animal\":\"cat\",\"earth\":2,\"list\":[23,32,12]}"
      ],
      "id": "_D3WHJsMkpcZ"
    },
    {
      "cell_type": "code",
      "metadata": {
        "id": "nQV3F4cTkpcZ"
      },
      "source": [
        "#code here\n",
        "\n"
      ],
      "id": "nQV3F4cTkpcZ",
      "execution_count": null,
      "outputs": []
    },
    {
      "cell_type": "markdown",
      "metadata": {
        "id": "9XZ9f0amkpcZ"
      },
      "source": [
        "Print the value of d[0]"
      ],
      "id": "9XZ9f0amkpcZ"
    },
    {
      "cell_type": "code",
      "metadata": {
        "id": "VdZOj0bVkpcZ",
        "outputId": "a2f77a3f-d39a-4594-83ed-b97ab65ba364"
      },
      "source": [
        "#code here\n",
        "\n"
      ],
      "id": "VdZOj0bVkpcZ",
      "execution_count": null,
      "outputs": [
        {
          "ename": "KeyError",
          "evalue": "0",
          "output_type": "error",
          "traceback": [
            "\u001b[0;31m---------------------------------------------------------------------------\u001b[0m",
            "\u001b[0;31mKeyError\u001b[0m                                  Traceback (most recent call last)",
            "\u001b[0;32m<ipython-input-123-123a9cc6df61>\u001b[0m in \u001b[0;36m<module>\u001b[0;34m\u001b[0m\n\u001b[0;32m----> 1\u001b[0;31m \u001b[0md\u001b[0m\u001b[0;34m[\u001b[0m\u001b[0;36m0\u001b[0m\u001b[0;34m]\u001b[0m\u001b[0;34m\u001b[0m\u001b[0;34m\u001b[0m\u001b[0m\n\u001b[0m",
            "\u001b[0;31mKeyError\u001b[0m: 0"
          ]
        }
      ]
    },
    {
      "cell_type": "markdown",
      "metadata": {
        "id": "YnzshYWfkpcZ"
      },
      "source": [
        "<b>Oops!! again an error. again a fun fact. Dictionary return the value for key if key is in the dictionary, else throws KeyError\n",
        "and we don't have key 0 here :( </b>"
      ],
      "id": "YnzshYWfkpcZ"
    },
    {
      "cell_type": "markdown",
      "metadata": {
        "id": "seqtJ3HOkpca"
      },
      "source": [
        "Store the value of d[‘actor’] to a new variable actor."
      ],
      "id": "seqtJ3HOkpca"
    },
    {
      "cell_type": "code",
      "metadata": {
        "id": "Iy-ibjR-kpca"
      },
      "source": [
        "#code here\n",
        "\n"
      ],
      "id": "Iy-ibjR-kpca",
      "execution_count": null,
      "outputs": []
    },
    {
      "cell_type": "markdown",
      "metadata": {
        "id": "3XspSdnykpca"
      },
      "source": [
        "Print the type of actor"
      ],
      "id": "3XspSdnykpca"
    },
    {
      "cell_type": "code",
      "metadata": {
        "id": "PeRcMuYHkpca",
        "outputId": "1b0f2a7a-d1c5-4da3-8d1c-21e410a5ec85"
      },
      "source": [
        "#code here\n",
        "\n"
      ],
      "id": "PeRcMuYHkpca",
      "execution_count": null,
      "outputs": [
        {
          "name": "stdout",
          "output_type": "stream",
          "text": [
            "<class 'str'>\n"
          ]
        }
      ]
    },
    {
      "cell_type": "markdown",
      "metadata": {
        "id": "MeAKu0Y1kpca"
      },
      "source": [
        "Store the value of d[‘list’] in new variable l. "
      ],
      "id": "MeAKu0Y1kpca"
    },
    {
      "cell_type": "code",
      "metadata": {
        "id": "Z1PS0784kpca"
      },
      "source": [
        "#code here\n",
        "\n"
      ],
      "id": "Z1PS0784kpca",
      "execution_count": null,
      "outputs": []
    },
    {
      "cell_type": "markdown",
      "metadata": {
        "id": "2-TgaLwtkpca"
      },
      "source": [
        "Print the type of l. "
      ],
      "id": "2-TgaLwtkpca"
    },
    {
      "cell_type": "code",
      "metadata": {
        "id": "D1LQcCj-kpcb",
        "outputId": "4bf850e3-993a-43cf-e098-dcd91041b7e0"
      },
      "source": [
        "#code here\n",
        "\n"
      ],
      "id": "D1LQcCj-kpcb",
      "execution_count": null,
      "outputs": [
        {
          "name": "stdout",
          "output_type": "stream",
          "text": [
            "<class 'list'>\n"
          ]
        }
      ]
    },
    {
      "cell_type": "markdown",
      "metadata": {
        "id": "YxRwuHH6kpcb"
      },
      "source": [
        "Create d1 = { ‘singer’ : ‘Kr$na’ , ‘album’: ‘Still here’, ‘genre’ : ‘hip-hop’}"
      ],
      "id": "YxRwuHH6kpcb"
    },
    {
      "cell_type": "code",
      "metadata": {
        "id": "VZBmqqDvkpcb"
      },
      "source": [
        "#code here\n",
        "\n"
      ],
      "id": "VZBmqqDvkpcb",
      "execution_count": null,
      "outputs": []
    },
    {
      "cell_type": "markdown",
      "metadata": {
        "id": "tZ2jSPPRkpcb"
      },
      "source": [
        "Merge d1 into d."
      ],
      "id": "tZ2jSPPRkpcb"
    },
    {
      "cell_type": "code",
      "metadata": {
        "id": "ydfvA3s4kpcb"
      },
      "source": [
        "#code here\n",
        "\n"
      ],
      "id": "ydfvA3s4kpcb",
      "execution_count": null,
      "outputs": []
    },
    {
      "cell_type": "markdown",
      "metadata": {
        "id": "GNNBXz-Pkpcb"
      },
      "source": [
        "print d"
      ],
      "id": "GNNBXz-Pkpcb"
    },
    {
      "cell_type": "code",
      "metadata": {
        "id": "fZ_SizwPkpcc",
        "outputId": "562507eb-63cd-40af-fe7f-b1882a77d778"
      },
      "source": [
        "#code here\n",
        "\n"
      ],
      "id": "fZ_SizwPkpcc",
      "execution_count": null,
      "outputs": [
        {
          "data": {
            "text/plain": [
              "{'actor': 'amir',\n",
              " 'animal': 'cat',\n",
              " 'earth': 2,\n",
              " 'list': [23, 32, 12],\n",
              " 'singer': 'Kr$na',\n",
              " 'album': 'Still here',\n",
              " 'genre': 'hip-hop'}"
            ]
          },
          "execution_count": 134,
          "metadata": {},
          "output_type": "execute_result"
        }
      ]
    },
    {
      "cell_type": "markdown",
      "metadata": {
        "id": "bkjF0mNckpcc"
      },
      "source": [
        "Print all the keys in d"
      ],
      "id": "bkjF0mNckpcc"
    },
    {
      "cell_type": "code",
      "metadata": {
        "id": "RgTiM-1Gkpcc",
        "outputId": "91dc5fc1-6277-46af-973e-ddf3f7faee0d"
      },
      "source": [
        "#code here\n",
        "\n"
      ],
      "id": "RgTiM-1Gkpcc",
      "execution_count": null,
      "outputs": [
        {
          "data": {
            "text/plain": [
              "dict_keys(['actor', 'animal', 'earth', 'list', 'singer', 'album', 'genre'])"
            ]
          },
          "execution_count": 137,
          "metadata": {},
          "output_type": "execute_result"
        }
      ]
    },
    {
      "cell_type": "markdown",
      "metadata": {
        "id": "HeqJs6sfkpcc"
      },
      "source": [
        "Print all the values in d"
      ],
      "id": "HeqJs6sfkpcc"
    },
    {
      "cell_type": "code",
      "metadata": {
        "id": "lS9DRpPZkpcc",
        "outputId": "2cdeec4b-67d6-4e2a-802c-e72579ff2a7b"
      },
      "source": [
        "#code here\n",
        "\n"
      ],
      "id": "lS9DRpPZkpcc",
      "execution_count": null,
      "outputs": [
        {
          "data": {
            "text/plain": [
              "dict_values(['amir', 'cat', 2, [23, 32, 12], 'Kr$na', 'Still here', 'hip-hop'])"
            ]
          },
          "execution_count": 138,
          "metadata": {},
          "output_type": "execute_result"
        }
      ]
    },
    {
      "cell_type": "markdown",
      "metadata": {
        "id": "AvMDYUh2kpcc"
      },
      "source": [
        "Iterate over d, and print each key, value pair as given in output"
      ],
      "id": "AvMDYUh2kpcc"
    },
    {
      "cell_type": "code",
      "metadata": {
        "id": "UIGPHLApkpcd",
        "outputId": "f0d57c11-11cc-41ae-a501-09315ecac444"
      },
      "source": [
        "#code here\n",
        "\n"
      ],
      "id": "UIGPHLApkpcd",
      "execution_count": null,
      "outputs": [
        {
          "name": "stdout",
          "output_type": "stream",
          "text": [
            "actor ----> amir\n",
            "animal ----> cat\n",
            "earth ----> 2\n",
            "list ----> [23, 32, 12]\n",
            "singer ----> Kr$na\n",
            "album ----> Still here\n",
            "genre ----> hip-hop\n"
          ]
        }
      ]
    },
    {
      "cell_type": "markdown",
      "metadata": {
        "id": "sHcM8rF0kpcd"
      },
      "source": [
        "\n",
        "Create a string, sent = ‘Coronavirus Caused Lockdowns Around The World.”\n",
        "\n",
        "Count the number of occurences of charachters in string named \"sent\" using dictionary and print the same.\n"
      ],
      "id": "sHcM8rF0kpcd"
    },
    {
      "cell_type": "code",
      "metadata": {
        "id": "DmpLDa2vkpcd",
        "outputId": "b357cba5-1a94-4906-d093-10364edfc26c"
      },
      "source": [
        "#code here\n",
        "\n",
        "\n",
        "\n"
      ],
      "id": "DmpLDa2vkpcd",
      "execution_count": null,
      "outputs": [
        {
          "data": {
            "text/plain": [
              "{'C': 2,\n",
              " 'o': 6,\n",
              " 'r': 4,\n",
              " 'n': 3,\n",
              " 'a': 2,\n",
              " 'v': 1,\n",
              " 'i': 1,\n",
              " 'u': 3,\n",
              " 's': 3,\n",
              " ' ': 5,\n",
              " 'e': 2,\n",
              " 'd': 4,\n",
              " 'L': 1,\n",
              " 'c': 1,\n",
              " 'k': 1,\n",
              " 'w': 1,\n",
              " 'A': 1,\n",
              " 'T': 1,\n",
              " 'h': 1,\n",
              " 'W': 1,\n",
              " 'l': 1,\n",
              " '.': 1}"
            ]
          },
          "execution_count": 2,
          "metadata": {},
          "output_type": "execute_result"
        }
      ]
    },
    {
      "cell_type": "markdown",
      "metadata": {
        "id": "b-ESQmrKkpcd"
      },
      "source": [
        "# --------------------------------------------------------------------"
      ],
      "id": "b-ESQmrKkpcd"
    },
    {
      "cell_type": "markdown",
      "metadata": {
        "id": "dxIz_yvZkpcd"
      },
      "source": [
        "# Hurray!! Second milestone completed. The next challenge is waiting for you :)\n",
        "\n",
        "# --------------------------------------------------------------------\n",
        "\n",
        "-----------------\n",
        "# FeedBack\n",
        "We hope you’ve enjoyed this course so far. We’re committed to help you use \"AI for All\" course to its full potential, so that you have a great learning experience. And that’s why we need your help in form of a feedback here.\n",
        "\n",
        "Please fill this feedback form  https://zfrmz.in/MtRG5oWXBdesm6rmSM7N"
      ],
      "id": "dxIz_yvZkpcd"
    }
  ]
}